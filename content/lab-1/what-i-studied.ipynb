{
 "cells": [
  {
   "cell_type": "markdown",
   "id": "70fa9243",
   "metadata": {},
   "source": [
    "영어를 모르겠으면 번역기를 돌리기\n",
    "입으로 읽고, 손으로 집기\n"
   ]
  },
  {
   "cell_type": "markdown",
   "id": "4f702115",
   "metadata": {},
   "source": [
    "세상에는 수만가지의 일이 있지만 나는 양자컴퓨터 관련된 일이 제일 멋있다.\n",
    "그 중에서도 내가 제일 좋아하는 일을 할 것이다.\n",
    "\n",
    "세상에는 수십억의 사람이 있지만 내가 가장 좋다.\n"
   ]
  },
  {
   "cell_type": "markdown",
   "id": "ea8138ca",
   "metadata": {},
   "source": [
    "지구의 10년이 여기의 1분일 때 중력차이는 얼마나 나는 것일까?"
   ]
  },
  {
   "cell_type": "markdown",
   "id": "ffd4fff2",
   "metadata": {},
   "source": [
    "## lab2"
   ]
  },
  {
   "cell_type": "markdown",
   "id": "9276b20b",
   "metadata": {},
   "source": [
    "### 커널 함수?\n",
    "\n",
    "적분값이 1이고, 모든 함수값이 양수이고, 대칭인 함수\n",
    "\n",
    "\n",
    "### sampler?\n",
    "\n",
    "결과를 샘플링함으로 주어진 양자 회로의 전체적인 quasi-probability 분포를 추정합니다. 사용자의 회로를 입력으로 받아 quasiprobabilities의 에러-완화 readout을 생성하는 프로그램이라고도 할 수 있습니다. 이는 사용자에게 에러 완화를 사용한 샷 결과를 평가하는 더 나은 방법을 제공하고, 상쇄 간섭의 관점에서 여러 개의 연관된 데이터 값의 확률을 더 효율적으로 평가할 수 있게 합니다.\n",
    "즉, 회로를 실행할 때 얻은 익숙한 \"counts\"의 결과와 매우 비슷하지만 Sampler는 오류 완화 루틴의 결과로 준 확률 분포(quasi-probability distribution)의 출력을 얻을 수 있습니다.\n",
    "\n",
    "간단히 말하면, 보다 넓은 범위의 정보 데이터를 자유롭게 사용할 수 있게 되는 것을 의미합니다. 준 확률 분포의 표현에서 얻은 정보는 진정한 확률 분포와의 유사도를 조사하거나샘플링 오버헤드와 교환하여 편향되지 않은 기대 값 포인트를 계산하는 데 더 관련이 있을 수 있습니다. 이러한 분포는 어떤 의미에서 진정한 확률처럼 행동하지만, 다른 점은 원래 이론의 제약이 몇 가지 완화된다는 것입니다. 그 중 하나는 \"음수의\" 확률을 나타내는 음의 데이터 포인트가 존재할 가능성입니다 (그러나 집합적으로 합이 1이 될 수 있음). 준확률 분포를 실제 확률로 오해해서는 안되며 사용 상황에 따라 특정 오류 범위까지 가장 가까운 실제 확률 분포로 추정할 수 있습니다. 샘플러를 활용할 수 있는 몇 가지 사용 사례는 Grovers 검색, QSVM 루틴, 안정기 계산, 최적화 루틴 등입니다."
   ]
  },
  {
   "cell_type": "markdown",
   "id": "da3558be",
   "metadata": {},
   "source": [
    "### parameterized quantum circuit?\n",
    "https://learn.qiskit.org/course/machine-learning/parameterized-quantum-circuits"
   ]
  },
  {
   "cell_type": "code",
   "execution_count": null,
   "id": "0a6cefb8",
   "metadata": {},
   "outputs": [],
   "source": []
  }
 ],
 "metadata": {
  "kernelspec": {
   "display_name": "Python 3 (ipykernel)",
   "language": "python",
   "name": "python3"
  },
  "language_info": {
   "codemirror_mode": {
    "name": "ipython",
    "version": 3
   },
   "file_extension": ".py",
   "mimetype": "text/x-python",
   "name": "python",
   "nbconvert_exporter": "python",
   "pygments_lexer": "ipython3",
   "version": "3.9.6"
  }
 },
 "nbformat": 4,
 "nbformat_minor": 5
}
